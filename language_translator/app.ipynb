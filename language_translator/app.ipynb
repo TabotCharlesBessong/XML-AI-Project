{
 "cells": [
  {
   "cell_type": "code",
   "execution_count": 1,
   "metadata": {},
   "outputs": [],
   "source": [
    "from tkinter import *\n",
    "from tkinter import ttk\n",
    "from googletrans import Translator,LANGUAGES"
   ]
  },
  {
   "cell_type": "code",
   "execution_count": 2,
   "metadata": {},
   "outputs": [],
   "source": [
    "root = Tk()\n",
    "root.geometry('960x360')\n",
    "root.resizable(0,0)\n",
    "root.iconbitmap('favicon.ico')\n",
    "root['bg'] = 'skyblue'\n",
    "\n",
    "root.title('Language translator by Charles Tabot')\n",
    "Label(root,text='English To French',font='Arial 24 bold').pack()\n",
    "\n",
    "# root.mainloop()"
   ]
  },
  {
   "cell_type": "code",
   "execution_count": 3,
   "metadata": {},
   "outputs": [],
   "source": [
    "Label(root,text='Enter text to be translated',font='arial 14 bold',bg='white smoke').place(x=165,y=90)"
   ]
  },
  {
   "cell_type": "code",
   "execution_count": 4,
   "metadata": {},
   "outputs": [
    {
     "data": {
      "text/plain": [
       "''"
      ]
     },
     "execution_count": 4,
     "metadata": {},
     "output_type": "execute_result"
    }
   ],
   "source": [
    "input_text = Entry(root,width=70)\n",
    "input_text.place(x=10,y=130,height=5)\n",
    "input_text.get()"
   ]
  },
  {
   "cell_type": "code",
   "execution_count": 5,
   "metadata": {},
   "outputs": [
    {
     "data": {
      "text/plain": [
       "<bound method Misc.mainloop of <tkinter.Tk object .>>"
      ]
     },
     "execution_count": 5,
     "metadata": {},
     "output_type": "execute_result"
    },
    {
     "ename": "",
     "evalue": "",
     "output_type": "error",
     "traceback": [
      "\u001b[1;31mThe Kernel crashed while executing code in the the current cell or a previous cell. Please review the code in the cell(s) to identify a possible cause of the failure. Click <a href='https://aka.ms/vscodeJupyterKernelCrash'>here</a> for more info. View Jupyter <a href='command:jupyter.viewOutput'>log</a> for further details."
     ]
    }
   ],
   "source": [
    "Label(root,text='Transalted text',font='arial 14 bold',bg='white smoke').place(x=780,y=90)\n",
    "output_text = Text(root,font='arial 10',height=5,wrap=WORD,padx=5,pady=5,width=50)\n",
    "output_text.place(x=600,y=130)\n",
    "\n",
    "language = list(LANGUAGES.values())\n",
    "\n",
    "french = ttk.Combobox(root,values=language,width=22)\n",
    "french.place(x=130,y=160)\n",
    "french.set('choose language')\n",
    "\n",
    "def translate():\n",
    "  translator = Translator()\n",
    "  translated = translator.translate(text=input_text.get(),dest=french.get())\n",
    "  output_text.delete(1.0,END)\n",
    "  output_text.insert(END,translated.text)\n",
    "  \n",
    "trans_btn = Button(root,text='Translate',font='arial 14 bold',padx=5,pady=2,command=translate,bg='orange',activebackground='green')\n",
    "trans_btn.place(x=445,y=180)\n",
    "\n",
    "root.mainloop"
   ]
  }
 ],
 "metadata": {
  "kernelspec": {
   "display_name": "Python 3",
   "language": "python",
   "name": "python3"
  },
  "language_info": {
   "codemirror_mode": {
    "name": "ipython",
    "version": 3
   },
   "file_extension": ".py",
   "mimetype": "text/x-python",
   "name": "python",
   "nbconvert_exporter": "python",
   "pygments_lexer": "ipython3",
   "version": "3.10.0"
  },
  "orig_nbformat": 4
 },
 "nbformat": 4,
 "nbformat_minor": 2
}
