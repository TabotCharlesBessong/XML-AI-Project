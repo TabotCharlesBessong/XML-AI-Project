{
 "cells": [
  {
   "cell_type": "code",
   "execution_count": 1,
   "metadata": {},
   "outputs": [],
   "source": [
    "import requests\n",
    "import uuid\n"
   ]
  },
  {
   "cell_type": "code",
   "execution_count": 2,
   "metadata": {},
   "outputs": [],
   "source": [
    "# function to translate text from English to French\n",
    "def translate_text(text):\n",
    "    path = '/translate?api-version=3.0&from=en&to=fr'\n",
    "    headers = {\n",
    "        'Ocp-Apim-Subscription-Key': subscription_key,\n",
    "        'Content-type': 'application/json',\n",
    "        'X-ClientTraceId': str(uuid.uuid4())\n",
    "    }\n",
    "    params = {\n",
    "        'api-version': '3.0',\n",
    "        'from': 'en',\n",
    "        'to': 'fr'\n",
    "    }\n",
    "    body = [{\n",
    "        'text': text\n",
    "    }]\n",
    "    response = requests.post(\n",
    "        endpoint + path, params=params, headers=headers, json=body)\n",
    "    return response.json()[0]['translations'][0]['text']\n"
   ]
  },
  {
   "cell_type": "code",
   "execution_count": 3,
   "metadata": {},
   "outputs": [
    {
     "ename": "NameError",
     "evalue": "name 'subscription_key' is not defined",
     "output_type": "error",
     "traceback": [
      "\u001b[1;31m---------------------------------------------------------------------------\u001b[0m",
      "\u001b[1;31mNameError\u001b[0m                                 Traceback (most recent call last)",
      "Cell \u001b[1;32mIn[3], line 3\u001b[0m\n\u001b[0;32m      1\u001b[0m \u001b[39m# example usage\u001b[39;00m\n\u001b[0;32m      2\u001b[0m text \u001b[39m=\u001b[39m \u001b[39m'\u001b[39m\u001b[39mHello, how are you?\u001b[39m\u001b[39m'\u001b[39m\n\u001b[1;32m----> 3\u001b[0m translation \u001b[39m=\u001b[39m translate_text(text)\n\u001b[0;32m      4\u001b[0m \u001b[39mprint\u001b[39m(\u001b[39mf\u001b[39m\u001b[39m'\u001b[39m\u001b[39mOriginal: \u001b[39m\u001b[39m{\u001b[39;00mtext\u001b[39m}\u001b[39;00m\u001b[39m'\u001b[39m)\n\u001b[0;32m      5\u001b[0m \u001b[39mprint\u001b[39m(\u001b[39mf\u001b[39m\u001b[39m'\u001b[39m\u001b[39mTranslation: \u001b[39m\u001b[39m{\u001b[39;00mtranslation\u001b[39m}\u001b[39;00m\u001b[39m'\u001b[39m)\n",
      "Cell \u001b[1;32mIn[2], line 5\u001b[0m, in \u001b[0;36mtranslate_text\u001b[1;34m(text)\u001b[0m\n\u001b[0;32m      2\u001b[0m \u001b[39mdef\u001b[39;00m \u001b[39mtranslate_text\u001b[39m(text):\n\u001b[0;32m      3\u001b[0m     path \u001b[39m=\u001b[39m \u001b[39m'\u001b[39m\u001b[39m/translate?api-version=3.0&from=en&to=fr\u001b[39m\u001b[39m'\u001b[39m\n\u001b[0;32m      4\u001b[0m     headers \u001b[39m=\u001b[39m {\n\u001b[1;32m----> 5\u001b[0m         \u001b[39m'\u001b[39m\u001b[39mOcp-Apim-Subscription-Key\u001b[39m\u001b[39m'\u001b[39m: subscription_key,\n\u001b[0;32m      6\u001b[0m         \u001b[39m'\u001b[39m\u001b[39mContent-type\u001b[39m\u001b[39m'\u001b[39m: \u001b[39m'\u001b[39m\u001b[39mapplication/json\u001b[39m\u001b[39m'\u001b[39m,\n\u001b[0;32m      7\u001b[0m         \u001b[39m'\u001b[39m\u001b[39mX-ClientTraceId\u001b[39m\u001b[39m'\u001b[39m: \u001b[39mstr\u001b[39m(uuid\u001b[39m.\u001b[39muuid4())\n\u001b[0;32m      8\u001b[0m     }\n\u001b[0;32m      9\u001b[0m     params \u001b[39m=\u001b[39m {\n\u001b[0;32m     10\u001b[0m         \u001b[39m'\u001b[39m\u001b[39mapi-version\u001b[39m\u001b[39m'\u001b[39m: \u001b[39m'\u001b[39m\u001b[39m3.0\u001b[39m\u001b[39m'\u001b[39m,\n\u001b[0;32m     11\u001b[0m         \u001b[39m'\u001b[39m\u001b[39mfrom\u001b[39m\u001b[39m'\u001b[39m: \u001b[39m'\u001b[39m\u001b[39men\u001b[39m\u001b[39m'\u001b[39m,\n\u001b[0;32m     12\u001b[0m         \u001b[39m'\u001b[39m\u001b[39mto\u001b[39m\u001b[39m'\u001b[39m: \u001b[39m'\u001b[39m\u001b[39mfr\u001b[39m\u001b[39m'\u001b[39m\n\u001b[0;32m     13\u001b[0m     }\n\u001b[0;32m     14\u001b[0m     body \u001b[39m=\u001b[39m [{\n\u001b[0;32m     15\u001b[0m         \u001b[39m'\u001b[39m\u001b[39mtext\u001b[39m\u001b[39m'\u001b[39m: text\n\u001b[0;32m     16\u001b[0m     }]\n",
      "\u001b[1;31mNameError\u001b[0m: name 'subscription_key' is not defined"
     ]
    }
   ],
   "source": [
    "# example usage\n",
    "text = 'Hello, how are you?'\n",
    "translation = translate_text(text)\n",
    "print(f'Original: {text}')\n",
    "print(f'Translation: {translation}')\n"
   ]
  },
  {
   "cell_type": "code",
   "execution_count": null,
   "metadata": {},
   "outputs": [],
   "source": []
  }
 ],
 "metadata": {
  "kernelspec": {
   "display_name": "Python 3",
   "language": "python",
   "name": "python3"
  },
  "language_info": {
   "codemirror_mode": {
    "name": "ipython",
    "version": 3
   },
   "file_extension": ".py",
   "mimetype": "text/x-python",
   "name": "python",
   "nbconvert_exporter": "python",
   "pygments_lexer": "ipython3",
   "version": "3.10.0"
  },
  "orig_nbformat": 4
 },
 "nbformat": 4,
 "nbformat_minor": 2
}
