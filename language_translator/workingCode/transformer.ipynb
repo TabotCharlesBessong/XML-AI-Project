{
 "cells": [
  {
   "cell_type": "code",
   "execution_count": null,
   "metadata": {},
   "outputs": [],
   "source": [
    "import transformers\n"
   ]
  },
  {
   "cell_type": "code",
   "execution_count": null,
   "metadata": {},
   "outputs": [],
   "source": [
    "model = transformers.AutoModelForSeq2SeqLM.from_pretrained(\n",
    "    \"Helsinki-NLP/opus-mt-en-fr\")"
   ]
  },
  {
   "cell_type": "code",
   "execution_count": null,
   "metadata": {},
   "outputs": [],
   "source": [
    "# Load the tokenizer\n",
    "tokenizer = transformers.AutoTokenizer.from_pretrained(\n",
    "    \"Helsinki-NLP/opus-mt-en-fr\")"
   ]
  },
  {
   "cell_type": "code",
   "execution_count": null,
   "metadata": {},
   "outputs": [],
   "source": [
    "import tkinter as tk\n"
   ]
  },
  {
   "cell_type": "code",
   "execution_count": null,
   "metadata": {},
   "outputs": [],
   "source": [
    "def translate():\n",
    "    # Get the input text from the input field\n",
    "    text = input_field.get(\"1.0\", \"end-1c\")\n",
    "\n",
    "    # Encode the text\n",
    "    input_ids = tokenizer.encode(text, return_tensors=\"pt\")\n",
    "\n",
    "    # Generate the translation\n",
    "    outputs = model.generate(input_ids, max_length=4096)\n",
    "\n",
    "    # Decode the translation\n",
    "    translation = tokenizer.decode(outputs[0], skip_special_tokens=True)\n",
    "\n",
    "    # Update the output field with the translation\n",
    "    output_field.delete(\"1.0\", \"end\")\n",
    "    output_field.insert(\"1.0\", translation)"
   ]
  },
  {
   "cell_type": "code",
   "execution_count": 66,
   "metadata": {},
   "outputs": [],
   "source": [
    "# Create the GUI\n",
    "root = tk.Tk()\n",
    "root.geometry(\"1200x600\")\n",
    "\n",
    "# Create the input field\n",
    "input_field = tk.Text(root, width=55, height=10, bd=8,\n",
    "                      relief=\"groove\", font=(\"Arial\", 16), wrap=\"word\")\n",
    "input_field.grid(row=0, column=0, padx=20, pady=20)\n",
    "input_field.pack(padx=10,pady=15)\n",
    "\n",
    "# Create the translate button\n",
    "translate_button = tk.Button(root, text=\"Translate\", width=8, bg=\"cyan\", font=(\n",
    "    \"Arial\", 12), command=translate)\n",
    "translate_button.pack()\n",
    "\n",
    "# Create the output field\n",
    "\n",
    "output_field = tk.Text(root, width=55, height=10, bd=8,\n",
    "                       relief=\"groove\", font=(\"Arial\", 16))\n",
    "# output_field.grid(row=0, column=2, padx=20, pady=20)\n",
    "output_field.pack(padx=10,pady=15)\n",
    "\n",
    "# Configure the grid layout to be responsive\n",
    "root.columnconfigure(0, weight=1)\n",
    "root.columnconfigure(1, weight=0)\n",
    "root.columnconfigure(2, weight=1)\n",
    "root.rowconfigure(0, weight=1)\n",
    "\n",
    "# Start the main event loop\n",
    "root.mainloop()"
   ]
  },
  {
   "cell_type": "code",
   "execution_count": null,
   "metadata": {},
   "outputs": [],
   "source": [
    "# Start the translation app\n",
    "# Get the input text from the user\n",
    "# text = input(\"Enter text to translate: \")\n",
    "\n",
    "# # Translate the text\n",
    "# translation = translate(text)\n",
    "\n",
    "# # Print the translation\n",
    "# print(f\"Translation: {translation}\")"
   ]
  },
  {
   "cell_type": "code",
   "execution_count": null,
   "metadata": {},
   "outputs": [],
   "source": []
  }
 ],
 "metadata": {
  "kernelspec": {
   "display_name": "Python 3",
   "language": "python",
   "name": "python3"
  },
  "language_info": {
   "codemirror_mode": {
    "name": "ipython",
    "version": 3
   },
   "file_extension": ".py",
   "mimetype": "text/x-python",
   "name": "python",
   "nbconvert_exporter": "python",
   "pygments_lexer": "ipython3",
   "version": "3.10.0"
  },
  "orig_nbformat": 4
 },
 "nbformat": 4,
 "nbformat_minor": 2
}
