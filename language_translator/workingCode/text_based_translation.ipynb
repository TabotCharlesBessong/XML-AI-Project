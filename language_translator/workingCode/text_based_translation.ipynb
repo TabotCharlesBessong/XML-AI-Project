{
 "cells": [
  {
   "cell_type": "code",
   "execution_count": 1,
   "metadata": {},
   "outputs": [],
   "source": [
    "import transformers"
   ]
  },
  {
   "cell_type": "code",
   "execution_count": 2,
   "metadata": {},
   "outputs": [],
   "source": [
    "model = transformers.AutoModelForSeq2SeqLM.from_pretrained(\n",
    "    \"Helsinki-NLP/opus-mt-en-fr\")\n"
   ]
  },
  {
   "cell_type": "code",
   "execution_count": 3,
   "metadata": {},
   "outputs": [
    {
     "name": "stderr",
     "output_type": "stream",
     "text": [
      "c:\\Users\\HP\\AppData\\Local\\Programs\\Python\\Python310\\lib\\site-packages\\transformers\\models\\marian\\tokenization_marian.py:194: UserWarning: Recommended: pip install sacremoses.\n",
      "  warnings.warn(\"Recommended: pip install sacremoses.\")\n"
     ]
    }
   ],
   "source": [
    "tokenizer = transformers.AutoTokenizer.from_pretrained(\n",
    "    \"Helsinki-NLP/opus-mt-en-fr\")\n"
   ]
  },
  {
   "cell_type": "code",
   "execution_count": 7,
   "metadata": {},
   "outputs": [],
   "source": [
    "def translate(text):\n",
    "    # Get the input text from the input field\n",
    "    # text = input_text.get()\n",
    "    # Encode the text\n",
    "    input_ids = tokenizer.encode(text, return_tensors=\"pt\")\n",
    "\n",
    "    # Generate the translation\n",
    "    outputs = model.generate(input_ids, max_length=2096)\n",
    "\n",
    "    # Decode the translation\n",
    "    translation = tokenizer.decode(outputs[0], skip_special_tokens=True)\n",
    "\n",
    "    return translation\n"
   ]
  },
  {
   "cell_type": "code",
   "execution_count": 8,
   "metadata": {},
   "outputs": [
    {
     "name": "stdout",
     "output_type": "stream",
     "text": [
      "Translation: Je suis un étudiant de troisième année à la Faculté d'ingénierie et de technologie de l'Université de Buea, où je me spécialise dans le génie logiciel. J'ai une forte passion pour le développement logiciel et je suis impatient d'en apprendre plus sur l'industrie. J'ai une solide base en informatique et je suis compétent dans une variété de langages de programmation, y compris ReactJS, NodeJS, Express JS, NextJS, MongoDB, MySQL, PostgreSQL, Firebase, ScikitLearn, dactylographie, python, React Native, et je suis également compétent en conception de système. Je suis également un apprenant rapide et je suis sûr que je peux rapidement adapter à de nouvelles technologies et environnements. J'ai travaillé avec la plupart de ces technologies pour plus d'un an comme React JS et d'autres presque un an comme Next JS.\n"
     ]
    }
   ],
   "source": [
    "# Start the translation app\n",
    "# while True:\n",
    "# Get the input text from the user\n",
    "text = input(\"Enter text to translate: \")\n",
    "\n",
    "# Translate the text\n",
    "translation = translate(text)\n",
    "\n",
    "# Print the translation\n",
    "print(f\"Translation: {translation}\")\n"
   ]
  },
  {
   "cell_type": "code",
   "execution_count": null,
   "metadata": {},
   "outputs": [],
   "source": []
  }
 ],
 "metadata": {
  "kernelspec": {
   "display_name": "Python 3",
   "language": "python",
   "name": "python3"
  },
  "language_info": {
   "codemirror_mode": {
    "name": "ipython",
    "version": 3
   },
   "file_extension": ".py",
   "mimetype": "text/x-python",
   "name": "python",
   "nbconvert_exporter": "python",
   "pygments_lexer": "ipython3",
   "version": "3.10.0"
  },
  "orig_nbformat": 4
 },
 "nbformat": 4,
 "nbformat_minor": 2
}
